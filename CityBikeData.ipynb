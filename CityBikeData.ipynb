{
 "cells": [
  {
   "cell_type": "code",
   "execution_count": 15,
   "metadata": {},
   "outputs": [],
   "source": [
    "import pandas as pd\n"
   ]
  },
  {
   "cell_type": "code",
   "execution_count": 16,
   "metadata": {},
   "outputs": [],
   "source": [
    "# Variables\n",
    "data_files = [\"data/JC-202301-citibike-tripdata.csv\",\n",
    "              \"data/JC-202302-citibike-tripdata.csv\",\n",
    "              \"data/JC-202303-citibike-tripdata.csv\",\n",
    "              \"data/JC-202304-citibike-tripdata.csv\",\n",
    "              \"data/JC-202305-citibike-tripdata.csv\",\n",
    "              \"data/JC-202306-citibike-tripdata.csv\",\n",
    "              \"data/JC-202307-citibike-tripdata.csv\",\n",
    "              \"data/JC-202308-citibike-tripdata.csv\",\n",
    "              \"data/JC-202309-citibike-tripdata.csv\",\n",
    "              \"data/JC-202310-citibike-tripdata.csv\",\n",
    "              \"data/JC-202311-citibike-tripdata.csv\",\n",
    "              \"data/JC-202312-citibike-tripdata.csv\"              \n",
    "              ]"
   ]
  },
  {
   "cell_type": "code",
   "execution_count": 17,
   "metadata": {},
   "outputs": [],
   "source": [
    "# Combines all of the CSV's into a single dataframe\n",
    "def combine_data(data_files):\n",
    "    bike_data = pd.DataFrame()\n",
    "    for x in range(0,12):\n",
    "        print(f\"Adding:  {data_files[x]}\")\n",
    "        data = pd.read_csv(data_files[x], encoding=\"UTF-8\")\n",
    "        bike_data = pd.concat([bike_data, data], ignore_index=True)\n",
    "    print()\n",
    "    return(bike_data)"
   ]
  },
  {
   "cell_type": "code",
   "execution_count": 18,
   "metadata": {},
   "outputs": [],
   "source": [
    "# Saves final dataset\n",
    "def save_data(bike_data):\n",
    "    print(\"Saving CSV.\")\n",
    "    bike_data.to_csv(\"data/combined_data.csv\", index=False, header=True)\n",
    "    print(\"Save complete.\")"
   ]
  },
  {
   "cell_type": "code",
   "execution_count": 19,
   "metadata": {},
   "outputs": [],
   "source": [
    "# Adds duration column to dataframe\n",
    "def add_duration(bike_data):\n",
    "    # convert columns to date/time\n",
    "    bike_data[\"started_at\"] = pd.to_datetime(bike_data[\"started_at\"])\n",
    "    bike_data[\"ended_at\"] = pd.to_datetime(bike_data[\"ended_at\"])\n",
    "\n",
    "    # Find the duration in minutes, rounded to 2 decimal points\n",
    "    bike_data['duration_minutes'] = (bike_data['ended_at'] - bike_data['started_at']).dt.total_seconds() / 60\n",
    "    bike_data['duration_minutes'] = bike_data['duration_minutes'].round(2)\n",
    "\n",
    "    return(bike_data)"
   ]
  },
  {
   "cell_type": "code",
   "execution_count": 20,
   "metadata": {},
   "outputs": [],
   "source": [
    "def remove_outliers(bike_data):\n",
    "    # removes any duration below 1 minute\n",
    "    bike_data.drop(bike_data[bike_data['duration_minutes'] < 1].index, inplace = True) \n",
    "\n",
    "    # Find outliers to remove them\n",
    "    quartiles = bike_data[\"duration_minutes\"].quantile([.25, .5, .75])\n",
    "    lowerq = quartiles[.25]\n",
    "    upperq = quartiles[.75]\n",
    "    iqr = upperq-lowerq\n",
    "    lower_bound = lowerq - (1.5*iqr)\n",
    "    upper_bound = upperq + (1.5*iqr)\n",
    "\n",
    "    print(f\"Duration Outliers\")\n",
    "    print(f\"-----------------------------\")\n",
    "    print(f\"Lower quartile: {lowerq}\")\n",
    "    print(f\"Upper quartile: {upperq}\")\n",
    "    print(f\"Interquartle range: {iqr}\")\n",
    "    print(f\"Values below {lower_bound} could be outliers.\")\n",
    "    print(f\"Values above {upper_bound} could be outliers.\")\n",
    "    print(f\"Min:  {bike_data['duration_minutes'].min()}\")\n",
    "    print(f\"Max:  {bike_data['duration_minutes'].max()}\")\n",
    "    print()\n",
    "\n",
    "    # Removes outliers\n",
    "    bike_data.drop(bike_data[(bike_data['duration_minutes'] < lower_bound) | (bike_data['duration_minutes'] > upper_bound)].index, inplace=True)\n",
    "\n",
    "    return(bike_data)\n"
   ]
  },
  {
   "cell_type": "code",
   "execution_count": 21,
   "metadata": {},
   "outputs": [
    {
     "name": "stdout",
     "output_type": "stream",
     "text": [
      "Adding:  data/JC-202301-citibike-tripdata.csv\n",
      "Adding:  data/JC-202302-citibike-tripdata.csv\n",
      "Adding:  data/JC-202303-citibike-tripdata.csv\n",
      "Adding:  data/JC-202304-citibike-tripdata.csv\n",
      "Adding:  data/JC-202305-citibike-tripdata.csv\n",
      "Adding:  data/JC-202306-citibike-tripdata.csv\n",
      "Adding:  data/JC-202307-citibike-tripdata.csv\n",
      "Adding:  data/JC-202308-citibike-tripdata.csv\n",
      "Adding:  data/JC-202309-citibike-tripdata.csv\n",
      "Adding:  data/JC-202310-citibike-tripdata.csv\n",
      "Adding:  data/JC-202311-citibike-tripdata.csv\n",
      "Adding:  data/JC-202312-citibike-tripdata.csv\n",
      "\n",
      "Duration Outliers\n",
      "-----------------------------\n",
      "Lower quartile: 4.2\n",
      "Upper quartile: 10.33\n",
      "Interquartle range: 6.13\n",
      "Values below -4.995 could be outliers.\n",
      "Values above 19.525 could be outliers.\n",
      "Min:  1.0\n",
      "Max:  17112.15\n",
      "\n",
      "-----------------------------\n",
      "Starting Rows:  988851  After Cleaning:  875771  Rows Removed:  113080\n",
      "\n",
      "Saving CSV.\n",
      "Save complete.\n"
     ]
    }
   ],
   "source": [
    "# Init\n",
    "bike_data = combine_data(data_files)\n",
    "bike_data = add_duration(bike_data)\n",
    "\n",
    "start_rows = len(bike_data)\n",
    "\n",
    "\n",
    "bike_data = remove_outliers(bike_data)\n",
    "\n",
    "end_rows = len(bike_data)\n",
    "\n",
    "print(\"-----------------------------\")\n",
    "print(f\"Starting Rows:  {start_rows}  After Cleaning:  {end_rows}  Rows Removed:  {start_rows - end_rows}\")\n",
    "print()\n",
    "save_data(bike_data)\n"
   ]
  }
 ],
 "metadata": {
  "kernelspec": {
   "display_name": "base",
   "language": "python",
   "name": "python3"
  },
  "language_info": {
   "codemirror_mode": {
    "name": "ipython",
    "version": 3
   },
   "file_extension": ".py",
   "mimetype": "text/x-python",
   "name": "python",
   "nbconvert_exporter": "python",
   "pygments_lexer": "ipython3",
   "version": "3.11.5"
  }
 },
 "nbformat": 4,
 "nbformat_minor": 2
}
